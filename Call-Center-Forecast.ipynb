{
 "cells": [
  {
   "cell_type": "code",
   "execution_count": null,
   "id": "be19cac2-6a86-4f36-82c5-806c7491e071",
   "metadata": {
    "tags": []
   },
   "outputs": [],
   "source": [
    "import pandas as pd\n",
    "from datetime import datetime, timedelta\n",
    "from math import factorial\n",
    "import appLog as applo"
   ]
  },
  {
   "cell_type": "code",
   "execution_count": null,
   "id": "ff312404-cb35-4d64-98eb-738c55710a00",
   "metadata": {
    "tags": []
   },
   "outputs": [],
   "source": [
    "df=pd.read_excel('./Call-Center-Dataset.xlsx')"
   ]
  },
  {
   "cell_type": "code",
   "execution_count": null,
   "id": "3d5e4dde-a5cc-4d68-ae76-603f2e77fc49",
   "metadata": {
    "tags": []
   },
   "outputs": [],
   "source": [
    "# #dTimeFormat=df[\"Time\"].dtypes\n",
    "# print(dTimeFormat)"
   ]
  },
  {
   "cell_type": "code",
   "execution_count": null,
   "id": "da9ceac8-9865-4879-a4a9-838df5c1de62",
   "metadata": {
    "tags": []
   },
   "outputs": [],
   "source": [
    "df[\"Date\"]=pd.to_datetime(df[\"Date\"])\n",
    "dDateFormat=df[\"Date\"].dtypes\n",
    "# print(df.head(5))"
   ]
  },
  {
   "cell_type": "code",
   "execution_count": null,
   "id": "5a8d2984-462c-4bf7-b11d-9510509f1e5e",
   "metadata": {
    "tags": []
   },
   "outputs": [],
   "source": [
    "df[\"Time\"]=df[\"Time\"] * 24\n",
    "df['Time'] = df['Time'].apply(lambda x: (datetime.min + timedelta(hours=x)).strftime('%H:%M:%S'))\n",
    "# print(df.head(5))"
   ]
  },
  {
   "cell_type": "code",
   "execution_count": null,
   "id": "77471a31-d6ff-4635-a03f-24712e5e2eff",
   "metadata": {
    "tags": []
   },
   "outputs": [],
   "source": [
    "df[\"CallReceivedDateTime\"]=pd.to_datetime(df['Date'].dt.strftime('%Y-%m-%d')+' '+df['Time'].astype(str))\n",
    "# print(df.head(5))"
   ]
  },
  {
   "cell_type": "code",
   "execution_count": null,
   "id": "38cbc0ab-4c21-418a-a52c-7d9845e56b9a",
   "metadata": {
    "tags": []
   },
   "outputs": [],
   "source": [
    "df['Date'] = pd.to_datetime(df['Date'], format='%d-%m-%Y')"
   ]
  },
  {
   "cell_type": "code",
   "execution_count": null,
   "id": "ea2e841f-17e4-4d24-beda-67b933cc21af",
   "metadata": {
    "tags": []
   },
   "outputs": [],
   "source": [
    "df[\"Answered\"] = df['Answered (Y/N)'].apply(lambda y: 1 if y == 'Y' else 0)"
   ]
  },
  {
   "cell_type": "code",
   "execution_count": null,
   "id": "bc0d1695-645a-410b-a711-aeb2594f6851",
   "metadata": {
    "tags": []
   },
   "outputs": [],
   "source": [
    "df1 = df[df['Answered'] == 1].groupby('Date').size().reset_index(name='sumofansweredcalls')\n"
   ]
  },
  {
   "cell_type": "code",
   "execution_count": null,
   "id": "acdcd1dd-de45-426b-9a07-30b4b7728ba1",
   "metadata": {
    "tags": []
   },
   "outputs": [],
   "source": [
    "# df1['sumofansweredcalls'] = df1['sumofansweredcalls'].apply(lambda x: factorial(x))"
   ]
  },
  {
   "cell_type": "code",
   "execution_count": null,
   "id": "883a01ec-fe14-43ad-9bbe-c3dcb0c33267",
   "metadata": {
    "tags": []
   },
   "outputs": [],
   "source": [
    "df1.rename(columns={'Date': 'callsReceivedDate'}, inplace=True)"
   ]
  },
  {
   "cell_type": "code",
   "execution_count": null,
   "id": "d8c8b7e5-3d96-4f49-8e9a-889544a54bbb",
   "metadata": {
    "tags": []
   },
   "outputs": [],
   "source": [
    "print(df1)"
   ]
  },
  {
   "cell_type": "code",
   "execution_count": 2,
   "id": "bda251d4-808d-48c4-9f41-f0b339d4ad5a",
   "metadata": {
    "tags": []
   },
   "outputs": [
    {
     "name": "stdout",
     "output_type": "stream",
     "text": [
      "Collecting gluonts\n",
      "  Obtaining dependency information for gluonts from https://files.pythonhosted.org/packages/c1/3e/c0f5b3d1be3307c02de68a713b1f15804c6e05d94b01dfa7f14d721c019d/gluonts-0.14.4-py3-none-any.whl.metadata\n",
      "Note: you may need to restart the kernel to use updated packages.\n"
     ]
    },
    {
     "name": "stderr",
     "output_type": "stream",
     "text": [
      "  WARNING: Retrying (Retry(total=4, connect=None, read=None, redirect=None, status=None)) after connection broken by 'SSLError(SSLCertVerificationError(1, '[SSL: CERTIFICATE_VERIFY_FAILED] certificate verify failed: unable to get local issuer certificate (_ssl.c:1002)'))': /packages/c1/3e/c0f5b3d1be3307c02de68a713b1f15804c6e05d94b01dfa7f14d721c019d/gluonts-0.14.4-py3-none-any.whl.metadata\n",
      "  WARNING: Retrying (Retry(total=3, connect=None, read=None, redirect=None, status=None)) after connection broken by 'SSLError(SSLCertVerificationError(1, '[SSL: CERTIFICATE_VERIFY_FAILED] certificate verify failed: unable to get local issuer certificate (_ssl.c:1002)'))': /packages/c1/3e/c0f5b3d1be3307c02de68a713b1f15804c6e05d94b01dfa7f14d721c019d/gluonts-0.14.4-py3-none-any.whl.metadata\n",
      "  WARNING: Retrying (Retry(total=2, connect=None, read=None, redirect=None, status=None)) after connection broken by 'SSLError(SSLCertVerificationError(1, '[SSL: CERTIFICATE_VERIFY_FAILED] certificate verify failed: unable to get local issuer certificate (_ssl.c:1002)'))': /packages/c1/3e/c0f5b3d1be3307c02de68a713b1f15804c6e05d94b01dfa7f14d721c019d/gluonts-0.14.4-py3-none-any.whl.metadata\n",
      "  WARNING: Retrying (Retry(total=1, connect=None, read=None, redirect=None, status=None)) after connection broken by 'SSLError(SSLCertVerificationError(1, '[SSL: CERTIFICATE_VERIFY_FAILED] certificate verify failed: unable to get local issuer certificate (_ssl.c:1002)'))': /packages/c1/3e/c0f5b3d1be3307c02de68a713b1f15804c6e05d94b01dfa7f14d721c019d/gluonts-0.14.4-py3-none-any.whl.metadata\n",
      "  WARNING: Retrying (Retry(total=0, connect=None, read=None, redirect=None, status=None)) after connection broken by 'SSLError(SSLCertVerificationError(1, '[SSL: CERTIFICATE_VERIFY_FAILED] certificate verify failed: unable to get local issuer certificate (_ssl.c:1002)'))': /packages/c1/3e/c0f5b3d1be3307c02de68a713b1f15804c6e05d94b01dfa7f14d721c019d/gluonts-0.14.4-py3-none-any.whl.metadata\n",
      "ERROR: Could not install packages due to an OSError: HTTPSConnectionPool(host='files.pythonhosted.org', port=443): Max retries exceeded with url: /packages/c1/3e/c0f5b3d1be3307c02de68a713b1f15804c6e05d94b01dfa7f14d721c019d/gluonts-0.14.4-py3-none-any.whl.metadata (Caused by SSLError(SSLCertVerificationError(1, '[SSL: CERTIFICATE_VERIFY_FAILED] certificate verify failed: unable to get local issuer certificate (_ssl.c:1002)')))\n",
      "\n"
     ]
    }
   ],
   "source": [
    "pip install gluonts"
   ]
  },
  {
   "cell_type": "code",
   "execution_count": 4,
   "id": "4d415ff6-f3a0-4d77-b07c-c5c94e00f43d",
   "metadata": {},
   "outputs": [
    {
     "ename": "ModuleNotFoundError",
     "evalue": "No module named 'gluonts'",
     "output_type": "error",
     "traceback": [
      "\u001b[1;31m---------------------------------------------------------------------------\u001b[0m",
      "\u001b[1;31mModuleNotFoundError\u001b[0m                       Traceback (most recent call last)",
      "Cell \u001b[1;32mIn[4], line 1\u001b[0m\n\u001b[1;32m----> 1\u001b[0m \u001b[38;5;28;01mfrom\u001b[39;00m \u001b[38;5;21;01mgluonts\u001b[39;00m\u001b[38;5;21;01m.\u001b[39;00m\u001b[38;5;21;01mmodel\u001b[39;00m\u001b[38;5;21;01m.\u001b[39;00m\u001b[38;5;21;01mdeeper\u001b[39;00m \u001b[38;5;28;01mimport\u001b[39;00m DeepAREstimator\n",
      "\u001b[1;31mModuleNotFoundError\u001b[0m: No module named 'gluonts'"
     ]
    }
   ],
   "source": [
    "from gluonts.model.deeper import DeepAREstimator"
   ]
  },
  {
   "cell_type": "code",
   "execution_count": null,
   "id": "d6d0cd51-6db5-47d0-810e-98b8b9d68e46",
   "metadata": {},
   "outputs": [],
   "source": []
  },
  {
   "cell_type": "code",
   "execution_count": null,
   "id": "9b6b139c-b815-4c51-98a0-8cb3070c2a31",
   "metadata": {},
   "outputs": [],
   "source": []
  },
  {
   "cell_type": "code",
   "execution_count": null,
   "id": "0e6eee97-c994-4276-85b7-f107e9cb2bc3",
   "metadata": {},
   "outputs": [],
   "source": []
  },
  {
   "cell_type": "code",
   "execution_count": null,
   "id": "9eedffee-3b9c-4099-9b0f-f0bdc5cebf15",
   "metadata": {},
   "outputs": [],
   "source": []
  }
 ],
 "metadata": {
  "kernelspec": {
   "display_name": "Python 3 (ipykernel)",
   "language": "python",
   "name": "python3"
  },
  "language_info": {
   "codemirror_mode": {
    "name": "ipython",
    "version": 3
   },
   "file_extension": ".py",
   "mimetype": "text/x-python",
   "name": "python",
   "nbconvert_exporter": "python",
   "pygments_lexer": "ipython3",
   "version": "3.11.4"
  }
 },
 "nbformat": 4,
 "nbformat_minor": 5
}
